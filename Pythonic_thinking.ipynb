{
  "nbformat": 4,
  "nbformat_minor": 0,
  "metadata": {
    "colab": {
      "name": "Pythonic thinking",
      "version": "0.3.2",
      "provenance": [],
      "collapsed_sections": [],
      "include_colab_link": true
    },
    "kernelspec": {
      "name": "python3",
      "display_name": "Python 3"
    }
  },
  "cells": [
    {
      "cell_type": "markdown",
      "metadata": {
        "id": "view-in-github",
        "colab_type": "text"
      },
      "source": [
        "<a href=\"https://colab.research.google.com/github/cbertolasio/python-study-group/blob/master/Pythonic_thinking.ipynb\" target=\"_parent\"><img src=\"https://colab.research.google.com/assets/colab-badge.svg\" alt=\"Open In Colab\"/></a>"
      ]
    },
    {
      "metadata": {
        "id": "s8WOvQ1QSI2G",
        "colab_type": "text"
      },
      "cell_type": "markdown",
      "source": [
        "# Pythonic Thinking\n",
        "\n",
        "Python developers often talk about \"Pythonic Thinking.\"  But, what does that mean?  I am reminded of this scene in \"The Matrix\"...\n",
        "\n",
        "![alt text](https://docs.google.com/uc?export=download&id=1-yyLW1Z5gs_rcwUfK5WPlF0klkDdvJ9Z)\n",
        "``` Morpheus: Unfortunately, no one can be told what the Matrix is. You have to see it for yourself. ```\n",
        "\n",
        "\n",
        "So, get a glass of water, swallow the red pill, and \"\"...buckle your seatbelt, Dorothy, 'cause Kansas is going bye-bye.\"\n",
        "\n",
        "## Example 1.  List expressions.\n",
        "\n",
        "Let's say that I have a list of numbers and I want to generate a new list that has each number squared...\n",
        "\n",
        "\n"
      ]
    },
    {
      "metadata": {
        "id": "qNxp4U6Ocay6",
        "colab_type": "code",
        "colab": {}
      },
      "cell_type": "code",
      "source": [
        "my_numbers = [0,1,2,3,4,5,6,7,8,9]\n"
      ],
      "execution_count": 0,
      "outputs": []
    },
    {
      "metadata": {
        "id": "zLWypmFlcmXn",
        "colab_type": "text"
      },
      "cell_type": "markdown",
      "source": [
        "In a language like Java, or C#, if you wanted to come up with a list that included these numbers squared, you would probably use a loop and run through the list.  Python, however, has a simplier approach...\n"
      ]
    },
    {
      "metadata": {
        "id": "k9Y_hyFTc-w2",
        "colab_type": "code",
        "outputId": "9e0eed0e-b740-4732-e0e4-ab1d643c4365",
        "colab": {
          "base_uri": "https://localhost:8080/",
          "height": 35
        }
      },
      "cell_type": "code",
      "source": [
        "my_squared_numbers = [x**2 for x in my_numbers]\n",
        "print(my_squared_numbers)"
      ],
      "execution_count": 0,
      "outputs": [
        {
          "output_type": "stream",
          "text": [
            "[0, 1, 4, 9, 16, 25, 36, 49, 64, 81]\n"
          ],
          "name": "stdout"
        }
      ]
    },
    {
      "metadata": {
        "id": "gDRxVooidIzM",
        "colab_type": "text"
      },
      "cell_type": "markdown",
      "source": [
        "Well, that is pretty cool, but what if we want a list that includes the squared numbers only if they are even.  It turns out that is pretty easy in python too...\n"
      ]
    },
    {
      "metadata": {
        "id": "da7gCi9ddTqT",
        "colab_type": "code",
        "outputId": "7a8f65df-a94b-412f-e450-fa60c5ea7947",
        "colab": {
          "base_uri": "https://localhost:8080/",
          "height": 35
        }
      },
      "cell_type": "code",
      "source": [
        "my_squared_even_numbers = [x**2 for x in my_numbers if x%2==0]  # Here we consider 0 to be even.\n",
        "print(my_squared_even_numbers)"
      ],
      "execution_count": 0,
      "outputs": [
        {
          "output_type": "stream",
          "text": [
            "[0, 4, 16, 36, 64]\n"
          ],
          "name": "stdout"
        }
      ]
    },
    {
      "metadata": {
        "id": "pyeigSE9M7qr",
        "colab_type": "text"
      },
      "cell_type": "markdown",
      "source": [
        "Congratulations.  You have just experienced list expressions!"
      ]
    },
    {
      "metadata": {
        "id": "ePiclvjIdrJx",
        "colab_type": "text"
      },
      "cell_type": "markdown",
      "source": [
        "## Example 2.  Lambda expressions and map...\n",
        "\n",
        "That is all pretty cool, but isn't it just syntatic sugar?\n",
        "\n",
        "Well, maybe.  List expressions are a very powerful and very common tool used in python programming.  I think that they are sort of like a gateway drug into more pythonic thinking...  Let's go back to our list of numbers...  Let's say that we wanted a new list, and we wanted to take the sine of each number in the list.  In pseudo code, we want something like this:\n",
        "\n",
        "$$ \\vec{x} = \\{0..9\\} $$\n",
        "$$ \\vec{y} = sin(\\vec{x}) $$\n",
        "\n",
        "(btw.  Did you know that the math sin() function takes in an angle values in radians?)\n",
        "\n",
        "From a mathematical standpoint, the above expression states that y is vector that consists of the sine of the compnents in the vector x.  A pythonic way to think about this is to do just that.  We define a function, sine, and apply it to the list..."
      ]
    },
    {
      "metadata": {
        "id": "fOXkPVFbenII",
        "colab_type": "code",
        "outputId": "52eb23ef-b67c-405c-924a-288f6c12b8be",
        "colab": {
          "base_uri": "https://localhost:8080/",
          "height": 53
        }
      },
      "cell_type": "code",
      "source": [
        "import math\n",
        "\n",
        "x = list(range(0,9))\n",
        "\n",
        "print(\"x = {}\".format(x))\n",
        "\n",
        "sine = lambda theta: math.sin(theta)\n",
        "\n",
        "y = list(map(sine, x))\n",
        "print(\"y = {}\".format(y))\n"
      ],
      "execution_count": 0,
      "outputs": [
        {
          "output_type": "stream",
          "text": [
            "x = [0, 1, 2, 3, 4, 5, 6, 7, 8]\n",
            "y = [0.0, 0.8414709848078965, 0.9092974268256817, 0.1411200080598672, -0.7568024953079282, -0.9589242746631385, -0.27941549819892586, 0.6569865987187891, 0.9893582466233818]\n"
          ],
          "name": "stdout"
        }
      ]
    },
    {
      "metadata": {
        "id": "cTO-Rnmpgawj",
        "colab_type": "text"
      },
      "cell_type": "markdown",
      "source": [
        "## Example 3.  Pythonic thinking and linear algebra\n",
        "\n",
        "Let's continue this way of thinking a bit further.\n",
        "\n",
        "If you think back to your linear algebra days, you probably remember that a matrix is more than just a really cool movie...  It is a multi-dimensional array of numbers.  One of the benefits of Python is that it contains a number of libraries that make working with things like matricies very intuitive.  Consider the following matricies:\n",
        "\n",
        "$$ X =\n",
        "  \\begin{bmatrix}\n",
        "    1 & 2 & 3  \\\\\n",
        "    4 & 5 & 6 \\\\\n",
        "    7 & 8 & 9\n",
        "  \\end{bmatrix}\n",
        " $$\n",
        " \n",
        " $$ Y = \\begin{bmatrix}\n",
        "    1 & 1 & -1  \\\\\n",
        "    1 & 1 & 1 \\\\\n",
        "    -1 & 1 & 1\n",
        "  \\end{bmatrix}\n",
        "  $$\n",
        "  \n",
        "  Now, consider the following equation:\n",
        "  $$ Z = X \\cdot Y $$\n",
        "  \n",
        "  where \"dot\" represents [matrix multiplication](https://en.wikipedia.org/wiki/Matrix_multiplication)\n",
        "  \n",
        "  Computing that value in languages other than python can be somewhat involved.  Here is an example of doing the matrix product in python the long hard way...\n",
        "  \n",
        "  "
      ]
    },
    {
      "metadata": {
        "id": "CEXF6kaXAO1F",
        "colab_type": "code",
        "outputId": "471fe355-aca2-45f8-843b-72e6bcfb8ffd",
        "colab": {
          "base_uri": "https://localhost:8080/",
          "height": 233
        }
      },
      "cell_type": "code",
      "source": [
        "import numpy as np\n",
        "X = np.array([[1,2,3],[4,5,6],[7,8,9]])\n",
        "Y = np.array([[1,1,-1],[1,1,1],[-1,1,1]])\n",
        "\n",
        "Z = np.zeros(shape=(3,3))\n",
        "\n",
        "# Note: This is NOT pythonic thinking...\n",
        "for i in range(0,3):\n",
        "    for j in range(0,3):\n",
        "        t = 0\n",
        "        for k in range(0,3):\n",
        "            t += X[i][k] * Y[k][j]\n",
        "        \n",
        "        Z[i,j] = t\n",
        "    \n",
        "print(\"X=\\n{}\".format(X))\n",
        "print(\"Y=\\n{}\".format(Y))\n",
        "print(\"Z=\\n{}\".format(Z))"
      ],
      "execution_count": 0,
      "outputs": [
        {
          "output_type": "stream",
          "text": [
            "X=\n",
            "[[1 2 3]\n",
            " [4 5 6]\n",
            " [7 8 9]]\n",
            "Y=\n",
            "[[ 1  1 -1]\n",
            " [ 1  1  1]\n",
            " [-1  1  1]]\n",
            "Z=\n",
            "[[ 0.  6.  4.]\n",
            " [ 3. 15.  7.]\n",
            " [ 6. 24. 10.]]\n"
          ],
          "name": "stdout"
        }
      ]
    },
    {
      "metadata": {
        "id": "7eAxPywfEHO_",
        "colab_type": "text"
      },
      "cell_type": "markdown",
      "source": [
        "## A more pythonic way..."
      ]
    },
    {
      "metadata": {
        "id": "CLZA5tbBj55B",
        "colab_type": "code",
        "outputId": "8281e145-b4fe-4bd3-8701-dd65c1c5fbfb",
        "colab": {
          "base_uri": "https://localhost:8080/",
          "height": 233
        }
      },
      "cell_type": "code",
      "source": [
        "import numpy as np\n",
        "\n",
        "X = np.array([[1,2,3],[4,5,6],[7,8,9]])\n",
        "Y = np.array([[1,1,-1],[1,1,1],[-1,1,1]])\n",
        "\n",
        "# This IS pythonic thinking...\n",
        "\n",
        "Z = X.dot(Y)\n",
        "\n",
        "print(\"X=\\n{}\".format(X))\n",
        "print(\"Y=\\n{}\".format(Y))\n",
        "print(\"Z=\\n{}\".format(Z))"
      ],
      "execution_count": 0,
      "outputs": [
        {
          "output_type": "stream",
          "text": [
            "X=\n",
            "[[1 2 3]\n",
            " [4 5 6]\n",
            " [7 8 9]]\n",
            "Y=\n",
            "[[ 1  1 -1]\n",
            " [ 1  1  1]\n",
            " [-1  1  1]]\n",
            "Z=\n",
            "[[ 0  6  4]\n",
            " [ 3 15  7]\n",
            " [ 6 24 10]]\n"
          ],
          "name": "stdout"
        }
      ]
    },
    {
      "metadata": {
        "id": "0FV32c6Sk2Kc",
        "colab_type": "text"
      },
      "cell_type": "markdown",
      "source": [
        "## How is that pythonic...\n",
        "\n",
        "If you look at the above code again, note the line:\n",
        "\n",
        "$$ Z = X.dot(Y) $$\n",
        "\n",
        "... is very close to \n",
        "\n",
        "$$ Z = X \\cdot Y $$\n",
        "\n",
        "Having code that very closely represents higher, more abstract thinking is very \"pythonic\".\n",
        "\n",
        "\n",
        "## A true sense of the power of python...\n",
        "\n",
        "Now, let's say that you are working on a problem related to using Singular Value Decomposition (SVD) for data compression, and you need to compute the relative error of a compressed representation of a matrix...  \n",
        "\n",
        "$$\n",
        "  \\dfrac{\\|A - U_k \\Sigma_k V_k^T\\|_F}\n",
        "        {\\|A\\|_F}\n",
        "        .\n",
        "$$\n",
        "\n",
        "In that formula, we are required to compute the Frobenius norm of a matrix A.  The the Frobenius norm is defined as:\n",
        "\n",
        "$$ ||A||_F = [ \\Sigma_{ij}abs(a_{ij})^2]^{1/2}  $$\n",
        "\n",
        "It looks hard, but with the power baked into standard python modules...\n",
        "\n",
        "\n",
        "\n"
      ]
    },
    {
      "metadata": {
        "id": "9aQ4ouDCELnC",
        "colab_type": "code",
        "outputId": "bd881367-8c51-4932-b976-5cbd7d670657",
        "colab": {
          "base_uri": "https://localhost:8080/",
          "height": 35
        }
      },
      "cell_type": "code",
      "source": [
        "A = np.array([[-4, -3, -2],[-1, 0, 1], [2, 3, 4]])\n",
        "\n",
        "A_f = np.linalg.norm(A, ord='fro')\n",
        "print(\"The forbenius norm of A is: {}\".format(A_f))"
      ],
      "execution_count": 0,
      "outputs": [
        {
          "output_type": "stream",
          "text": [
            "The forbenius norm of A is: 7.745966692414834\n"
          ],
          "name": "stdout"
        }
      ]
    },
    {
      "metadata": {
        "id": "cqyon2b-HwW_",
        "colab_type": "text"
      },
      "cell_type": "markdown",
      "source": [
        "Further reading.  Check out this [article](https://arxiv.org/pdf/1211.7102.pdf) if your interested in SVD and data compression.  \n",
        "\n",
        "Now THAT is pythonic thinking.  By knowing a little about the definition of np.linalg.norm, we can compute it a single line!"
      ]
    },
    {
      "metadata": {
        "id": "0q59AblwCyzs",
        "colab_type": "text"
      },
      "cell_type": "markdown",
      "source": [
        "## In summary:\n",
        "\n",
        "In this notebook, I have attempted to scratch the surface on what \"Pythonic\" thinking means.  It is a vague term, but one that seems to take root in developers the more python code they write.  If you are interested in reading another resource that touches on this subject [check out this python style guide](https://docs.python-guide.org/writing/style/).\n",
        "\n",
        "In the mean time, good luck with your continued python programming journey.\n",
        "\n",
        "I will leave you with another Matrix reference.  (I took some liberty with this..)\n",
        "\n",
        "\n",
        "![alt text](https://docs.google.com/uc?export=download&id=1nDpLRD6dCqBgKhNRTQoeTGICcXTvY5iw)"
      ]
    }
  ]
}