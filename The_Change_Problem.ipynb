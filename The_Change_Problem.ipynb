{
  "nbformat": 4,
  "nbformat_minor": 0,
  "metadata": {
    "colab": {
      "name": "The Change Problem.ipynb",
      "version": "0.3.2",
      "provenance": [],
      "collapsed_sections": [],
      "include_colab_link": true
    },
    "kernelspec": {
      "name": "python3",
      "display_name": "Python 3"
    }
  },
  "cells": [
    {
      "cell_type": "markdown",
      "metadata": {
        "id": "view-in-github",
        "colab_type": "text"
      },
      "source": [
        "[View in Colaboratory](https://colab.research.google.com/github/cbertolasio/python-study-group/blob/master/The_Change_Problem.ipynb)"
      ]
    },
    {
      "metadata": {
        "colab_type": "text",
        "id": "9tOvo9cYz-kC"
      },
      "cell_type": "markdown",
      "source": [
        "#  The Change Problem.\n",
        "\n",
        "Recursion is a topic that can make many programmer's heads spin (mine included).  Here is a problem for you to get a little practice with using recursion in Python.  You may have even run into this question before as it is a very popular job interview question.\n",
        "\n",
        "Let's say that you go to a store and purchase an item with cash.  Not wanting to have a bunch of loose change running around, you request the clerk to give you your change in the smallest number of bills and coins as possible.  Your challenge is to write some code....  THAT USES RECURSION... in order to confirm that the clerk did things correctly.  I will include some code below.  You need to complete the section in the \"Your code here\" spot.\n",
        "\n",
        "Good luck!\n",
        "\n",
        "\n",
        "If you need a hint, drop me an email (miles_porter@trimble.com)"
      ]
    },
    {
      "metadata": {
        "id": "7Ch-3oAak3qP",
        "colab_type": "code",
        "colab": {}
      },
      "cell_type": "code",
      "source": [
        "from decimal import *\n",
        "\n",
        "denominations = [100.0, 50.0, 20.0, 10.0, 5.0, 1.0, 0.25, 0.10, 0.05, 0.01]\n",
        "\n",
        "# Note:  you may need this to avoid roundoff errors\n",
        "def subtract_money(a, b):\n",
        "    \n",
        "    return float(Decimal(a) - Decimal(b))\n",
        "    \n",
        "    \n",
        "def get_change(balance, denominations, denom_idx):\n",
        "    \n",
        "    ####################\n",
        "    #  YOUR CODE HERE  #\n",
        "    ####################\n",
        "    \n",
        "    pass\n",
        "    \n",
        "\n",
        "\n",
        "\n"
      ],
      "execution_count": 0,
      "outputs": []
    },
    {
      "metadata": {
        "id": "C6C6Kk-lwH47",
        "colab_type": "code",
        "colab": {}
      },
      "cell_type": "code",
      "source": [
        "#  Test Case 1\n",
        "denom_idx = 0\n",
        "coins_and_bills = get_change(137.67, denominations, denom_idx)\n",
        "print(coins_and_bills)\n",
        "assert coins_and_bills == [100.0, \n",
        "                           20.0, \n",
        "                           10.0, \n",
        "                           5.0, \n",
        "                           1.0, 1.0, \n",
        "                           0.25, 0.25, \n",
        "                           0.10, \n",
        "                           0.05, \n",
        "                           0.01, 0.01]\n",
        "print(\"Passed!!!\")\n"
      ],
      "execution_count": 0,
      "outputs": []
    },
    {
      "metadata": {
        "id": "-WMMCcb1wIbD",
        "colab_type": "code",
        "colab": {}
      },
      "cell_type": "code",
      "source": [
        "# Test Case 2\n",
        "denom_idx = 0\n",
        "coins_and_bills = get_change(13.11, denominations, denom_idx)\n",
        "print(coins_and_bills)\n",
        "assert coins_and_bills == [10.0, 1.0, 1.0, 1.0, 0.10, 0.01]\n",
        "print(\"Passed!!!\")"
      ],
      "execution_count": 0,
      "outputs": []
    },
    {
      "metadata": {
        "id": "vKetr4iiwZTq",
        "colab_type": "code",
        "colab": {}
      },
      "cell_type": "code",
      "source": [
        "# Test Case 3\n",
        "denom_idx = 0\n",
        "coins_and_bills = get_change(99.99, denominations, denom_idx)\n",
        "print(coins_and_bills)\n",
        "assert coins_and_bills == [50.0,\n",
        "                           20.0, 20.0,\n",
        "                           5.0,\n",
        "                           1.0, 1.0, 1.0, 1.0,\n",
        "                           0.25, 0.25, 0.25,\n",
        "                           0.1, 0.1,\n",
        "                           0.01,0.01,0.01,0.01]\n",
        "print(\"Passed!!!\")"
      ],
      "execution_count": 0,
      "outputs": []
    }
  ]
}