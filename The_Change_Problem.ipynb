{
  "nbformat": 4,
  "nbformat_minor": 0,
  "metadata": {
    "colab": {
      "name": "The Change Problem.ipynb",
      "version": "0.3.2",
      "provenance": [],
      "collapsed_sections": [],
      "include_colab_link": true
    },
    "kernelspec": {
      "name": "python3",
      "display_name": "Python 3"
    }
  },
  "cells": [
    {
      "cell_type": "markdown",
      "metadata": {
        "id": "view-in-github",
        "colab_type": "text"
      },
      "source": [
        "<a href=\"https://colab.research.google.com/github/cbertolasio/python-study-group/blob/master/The_Change_Problem.ipynb\" target=\"_parent\"><img src=\"https://colab.research.google.com/assets/colab-badge.svg\" alt=\"Open In Colab\"/></a>"
      ]
    },
    {
      "metadata": {
        "colab_type": "text",
        "id": "9tOvo9cYz-kC"
      },
      "cell_type": "markdown",
      "source": [
        "#  The Change Problem.\n",
        "\n",
        "Recursion is a topic that can make many programmer's heads spin (mine included).  Here is a problem for you to get a little practice with using recursion in Python.  You may have even run into this question before as it is a very popular job interview question.\n",
        "\n",
        "Let's say that you go to a store and purchase an item with cash.  Not wanting to have a bunch of loose change running around, you request the clerk to give you your change in the smallest number of bills and coins as possible.  Your challenge is to write some code....  THAT USES RECURSION... in order to confirm that the clerk did things correctly.  I will include some code below.  You need to complete the section in the \"Your code here\" spot.\n",
        "\n",
        "Good luck!"
      ]
    },
    {
      "metadata": {
        "id": "SdEKy2zYLJP_",
        "colab_type": "text"
      },
      "cell_type": "markdown",
      "source": [
        "In my implementation of the solution, I refactored the subtrat_money to round to 2 decimal places for the sake of simplicity.\n",
        "\n",
        "I also implemented a greedy algorithm  (https://en.wikipedia.org/wiki/Greedy_algorithm).  In my solution, the currencies are listed in descending order.  I remove each denomination from the list if the remaining balance is > the current denomination."
      ]
    },
    {
      "metadata": {
        "id": "7Ch-3oAak3qP",
        "colab_type": "code",
        "outputId": "284d74bb-a193-4bba-d926-6e5e8a1743bb",
        "colab": {
          "base_uri": "https://localhost:8080/",
          "height": 34
        }
      },
      "cell_type": "code",
      "source": [
        "from decimal import *\n",
        "\n",
        "result = []\n",
        "\n",
        "print('initial countOfDenominations <', len(denominations),'>')\n",
        "\n",
        "# Note:  you may need this to avoid roundoff errors\n",
        "def subtract_money(a, b):\n",
        "    return round(float(Decimal(a) - Decimal(b)), 2)\n",
        "\n",
        "def remove_denomination():\n",
        "  index = 0\n",
        "  print('removing index:',index, ' denomination:', denominations[index])\n",
        "  denominations.pop(index)\n",
        "    \n",
        "def get_change(balance, denominations):\n",
        "    print('get_change balance {',balance,'}, denominations ', denominations)\n",
        "    newBalance = balance\n",
        "    \n",
        "    if not denominations:\n",
        "      return result;\n",
        "    \n",
        "    currentDenom = denominations[0]\n",
        "      \n",
        "    print('currentDenom', currentDenom)\n",
        "    if currentDenom <= balance:\n",
        "      result.append(currentDenom)\n",
        "      print('result: ', result)\n",
        "      \n",
        "      newBalance = subtract_money(balance, currentDenom)\n",
        "      print('newBalance: <', newBalance, '>')\n",
        "      #remove currentDenom if its > newBalance, meaning it should not be added again\n",
        "      if currentDenom > newBalance:\n",
        "        remove_denomination()\n",
        "        \n",
        "    else:\n",
        "      remove_denomination()\n",
        "      \n",
        "    get_change(newBalance, denominations) \n",
        "    return result\n",
        "    \n",
        "\n",
        "\n",
        "\n"
      ],
      "execution_count": 0,
      "outputs": [
        {
          "output_type": "stream",
          "text": [
            "initial countOfDenominations < 10 >\n"
          ],
          "name": "stdout"
        }
      ]
    },
    {
      "metadata": {
        "id": "C6C6Kk-lwH47",
        "colab_type": "code",
        "outputId": "5507d4e9-471d-4352-e76f-f609cc098c7c",
        "colab": {
          "base_uri": "https://localhost:8080/",
          "height": 1075
        }
      },
      "cell_type": "code",
      "source": [
        "#  Test Case 1\n",
        "denominations = [100.0, 50.0, 20.0, 10.0, 5.0, 1.0, 0.25, 0.1, 0.05, 0.01]\n",
        "result = []\n",
        "coins_and_bills = get_change(137.67, denominations)\n",
        "print('coins and bills:',coins_and_bills)\n",
        "assert coins_and_bills == [100.0, 20.0, 10.0, 5.0, 1.0, 1.0, 0.25, 0.25, 0.1, 0.05, 0.01, 0.01]\n",
        "print(\"Passed!!!\")\n"
      ],
      "execution_count": 0,
      "outputs": [
        {
          "output_type": "stream",
          "text": [
            "get_change balance { 137.67 }, denominations  [100.0, 50.0, 20.0, 10.0, 5.0, 1.0, 0.25, 0.1, 0.05, 0.01]\n",
            "currentDenom 100.0\n",
            "result:  [100.0]\n",
            "newBalance: < 37.67 >\n",
            "removing index: 0  denomination: 100.0\n",
            "get_change balance { 37.67 }, denominations  [50.0, 20.0, 10.0, 5.0, 1.0, 0.25, 0.1, 0.05, 0.01]\n",
            "currentDenom 50.0\n",
            "removing index: 0  denomination: 50.0\n",
            "get_change balance { 37.67 }, denominations  [20.0, 10.0, 5.0, 1.0, 0.25, 0.1, 0.05, 0.01]\n",
            "currentDenom 20.0\n",
            "result:  [100.0, 20.0]\n",
            "newBalance: < 17.67 >\n",
            "removing index: 0  denomination: 20.0\n",
            "get_change balance { 17.67 }, denominations  [10.0, 5.0, 1.0, 0.25, 0.1, 0.05, 0.01]\n",
            "currentDenom 10.0\n",
            "result:  [100.0, 20.0, 10.0]\n",
            "newBalance: < 7.67 >\n",
            "removing index: 0  denomination: 10.0\n",
            "get_change balance { 7.67 }, denominations  [5.0, 1.0, 0.25, 0.1, 0.05, 0.01]\n",
            "currentDenom 5.0\n",
            "result:  [100.0, 20.0, 10.0, 5.0]\n",
            "newBalance: < 2.67 >\n",
            "removing index: 0  denomination: 5.0\n",
            "get_change balance { 2.67 }, denominations  [1.0, 0.25, 0.1, 0.05, 0.01]\n",
            "currentDenom 1.0\n",
            "result:  [100.0, 20.0, 10.0, 5.0, 1.0]\n",
            "newBalance: < 1.67 >\n",
            "get_change balance { 1.67 }, denominations  [1.0, 0.25, 0.1, 0.05, 0.01]\n",
            "currentDenom 1.0\n",
            "result:  [100.0, 20.0, 10.0, 5.0, 1.0, 1.0]\n",
            "newBalance: < 0.67 >\n",
            "removing index: 0  denomination: 1.0\n",
            "get_change balance { 0.67 }, denominations  [0.25, 0.1, 0.05, 0.01]\n",
            "currentDenom 0.25\n",
            "result:  [100.0, 20.0, 10.0, 5.0, 1.0, 1.0, 0.25]\n",
            "newBalance: < 0.42 >\n",
            "get_change balance { 0.42 }, denominations  [0.25, 0.1, 0.05, 0.01]\n",
            "currentDenom 0.25\n",
            "result:  [100.0, 20.0, 10.0, 5.0, 1.0, 1.0, 0.25, 0.25]\n",
            "newBalance: < 0.17 >\n",
            "removing index: 0  denomination: 0.25\n",
            "get_change balance { 0.17 }, denominations  [0.1, 0.05, 0.01]\n",
            "currentDenom 0.1\n",
            "result:  [100.0, 20.0, 10.0, 5.0, 1.0, 1.0, 0.25, 0.25, 0.1]\n",
            "newBalance: < 0.07 >\n",
            "removing index: 0  denomination: 0.1\n",
            "get_change balance { 0.07 }, denominations  [0.05, 0.01]\n",
            "currentDenom 0.05\n",
            "result:  [100.0, 20.0, 10.0, 5.0, 1.0, 1.0, 0.25, 0.25, 0.1, 0.05]\n",
            "newBalance: < 0.02 >\n",
            "removing index: 0  denomination: 0.05\n",
            "get_change balance { 0.02 }, denominations  [0.01]\n",
            "currentDenom 0.01\n",
            "result:  [100.0, 20.0, 10.0, 5.0, 1.0, 1.0, 0.25, 0.25, 0.1, 0.05, 0.01]\n",
            "newBalance: < 0.01 >\n",
            "get_change balance { 0.01 }, denominations  [0.01]\n",
            "currentDenom 0.01\n",
            "result:  [100.0, 20.0, 10.0, 5.0, 1.0, 1.0, 0.25, 0.25, 0.1, 0.05, 0.01, 0.01]\n",
            "newBalance: < 0.0 >\n",
            "removing index: 0  denomination: 0.01\n",
            "get_change balance { 0.0 }, denominations  []\n",
            "coins and bills: [100.0, 20.0, 10.0, 5.0, 1.0, 1.0, 0.25, 0.25, 0.1, 0.05, 0.01, 0.01]\n",
            "Passed!!!\n"
          ],
          "name": "stdout"
        }
      ]
    },
    {
      "metadata": {
        "id": "-WMMCcb1wIbD",
        "colab_type": "code",
        "outputId": "1a4de312-f28f-44ec-ee4d-2d5b180de08f",
        "colab": {
          "base_uri": "https://localhost:8080/",
          "height": 840
        }
      },
      "cell_type": "code",
      "source": [
        "# Test Case 2\n",
        "denominations = [100.0, 50.0, 20.0, 10.0, 5.0, 1.0, 0.25, 0.1, 0.05, 0.01]\n",
        "result = []\n",
        "coins_and_bills = get_change(13.11, denominations)\n",
        "print(coins_and_bills)\n",
        "assert coins_and_bills == [10.0, 1.0, 1.0, 1.0, 0.1, 0.01]\n",
        "print(\"Passed!!!\")"
      ],
      "execution_count": 0,
      "outputs": [
        {
          "output_type": "stream",
          "text": [
            "get_change balance { 13.11 }, denominations  [100.0, 50.0, 20.0, 10.0, 5.0, 1.0, 0.25, 0.1, 0.05, 0.01]\n",
            "currentDenom 100.0\n",
            "removing index: 0  denomination: 100.0\n",
            "get_change balance { 13.11 }, denominations  [50.0, 20.0, 10.0, 5.0, 1.0, 0.25, 0.1, 0.05, 0.01]\n",
            "currentDenom 50.0\n",
            "removing index: 0  denomination: 50.0\n",
            "get_change balance { 13.11 }, denominations  [20.0, 10.0, 5.0, 1.0, 0.25, 0.1, 0.05, 0.01]\n",
            "currentDenom 20.0\n",
            "removing index: 0  denomination: 20.0\n",
            "get_change balance { 13.11 }, denominations  [10.0, 5.0, 1.0, 0.25, 0.1, 0.05, 0.01]\n",
            "currentDenom 10.0\n",
            "result:  [10.0]\n",
            "newBalance: < 3.11 >\n",
            "removing index: 0  denomination: 10.0\n",
            "get_change balance { 3.11 }, denominations  [5.0, 1.0, 0.25, 0.1, 0.05, 0.01]\n",
            "currentDenom 5.0\n",
            "removing index: 0  denomination: 5.0\n",
            "get_change balance { 3.11 }, denominations  [1.0, 0.25, 0.1, 0.05, 0.01]\n",
            "currentDenom 1.0\n",
            "result:  [10.0, 1.0]\n",
            "newBalance: < 2.11 >\n",
            "get_change balance { 2.11 }, denominations  [1.0, 0.25, 0.1, 0.05, 0.01]\n",
            "currentDenom 1.0\n",
            "result:  [10.0, 1.0, 1.0]\n",
            "newBalance: < 1.11 >\n",
            "get_change balance { 1.11 }, denominations  [1.0, 0.25, 0.1, 0.05, 0.01]\n",
            "currentDenom 1.0\n",
            "result:  [10.0, 1.0, 1.0, 1.0]\n",
            "newBalance: < 0.11 >\n",
            "removing index: 0  denomination: 1.0\n",
            "get_change balance { 0.11 }, denominations  [0.25, 0.1, 0.05, 0.01]\n",
            "currentDenom 0.25\n",
            "removing index: 0  denomination: 0.25\n",
            "get_change balance { 0.11 }, denominations  [0.1, 0.05, 0.01]\n",
            "currentDenom 0.1\n",
            "result:  [10.0, 1.0, 1.0, 1.0, 0.1]\n",
            "newBalance: < 0.01 >\n",
            "removing index: 0  denomination: 0.1\n",
            "get_change balance { 0.01 }, denominations  [0.05, 0.01]\n",
            "currentDenom 0.05\n",
            "removing index: 0  denomination: 0.05\n",
            "get_change balance { 0.01 }, denominations  [0.01]\n",
            "currentDenom 0.01\n",
            "result:  [10.0, 1.0, 1.0, 1.0, 0.1, 0.01]\n",
            "newBalance: < 0.0 >\n",
            "removing index: 0  denomination: 0.01\n",
            "get_change balance { 0.0 }, denominations  []\n",
            "[10.0, 1.0, 1.0, 1.0, 0.1, 0.01]\n",
            "Passed!!!\n"
          ],
          "name": "stdout"
        }
      ]
    },
    {
      "metadata": {
        "id": "vKetr4iiwZTq",
        "colab_type": "code",
        "outputId": "0d06bcd9-8de5-4fe0-989d-7b076e899838",
        "colab": {
          "base_uri": "https://localhost:8080/",
          "height": 1478
        }
      },
      "cell_type": "code",
      "source": [
        "# Test Case 3\n",
        "denominations = [100.0, 50.0, 20.0, 10.0, 5.0, 1.0, 0.25, 0.1, 0.05, 0.01]\n",
        "result = []\n",
        "coins_and_bills = get_change(99.99, denominations)\n",
        "print(coins_and_bills)\n",
        "assert coins_and_bills == [50.0,\n",
        "                           20.0, 20.0,\n",
        "                           5.0,\n",
        "                           1, 1.0, 1.0, 1.0,\n",
        "                           0.25, 0.25, 0.25,\n",
        "                           0.1, 0.1,\n",
        "                           0.01,0.01,0.01,0.01]\n",
        "print(\"Passed!!!\")"
      ],
      "execution_count": 0,
      "outputs": [
        {
          "output_type": "stream",
          "text": [
            "get_change balance { 99.99 }, denominations  [100.0, 50.0, 20.0, 10.0, 5.0, 1.0, 0.25, 0.1, 0.05, 0.01]\n",
            "currentDenom 100.0\n",
            "removing index: 0  denomination: 100.0\n",
            "get_change balance { 99.99 }, denominations  [50.0, 20.0, 10.0, 5.0, 1.0, 0.25, 0.1, 0.05, 0.01]\n",
            "currentDenom 50.0\n",
            "result:  [50.0]\n",
            "newBalance: < 49.99 >\n",
            "removing index: 0  denomination: 50.0\n",
            "get_change balance { 49.99 }, denominations  [20.0, 10.0, 5.0, 1.0, 0.25, 0.1, 0.05, 0.01]\n",
            "currentDenom 20.0\n",
            "result:  [50.0, 20.0]\n",
            "newBalance: < 29.99 >\n",
            "get_change balance { 29.99 }, denominations  [20.0, 10.0, 5.0, 1.0, 0.25, 0.1, 0.05, 0.01]\n",
            "currentDenom 20.0\n",
            "result:  [50.0, 20.0, 20.0]\n",
            "newBalance: < 9.99 >\n",
            "removing index: 0  denomination: 20.0\n",
            "get_change balance { 9.99 }, denominations  [10.0, 5.0, 1.0, 0.25, 0.1, 0.05, 0.01]\n",
            "currentDenom 10.0\n",
            "removing index: 0  denomination: 10.0\n",
            "get_change balance { 9.99 }, denominations  [5.0, 1.0, 0.25, 0.1, 0.05, 0.01]\n",
            "currentDenom 5.0\n",
            "result:  [50.0, 20.0, 20.0, 5.0]\n",
            "newBalance: < 4.99 >\n",
            "removing index: 0  denomination: 5.0\n",
            "get_change balance { 4.99 }, denominations  [1.0, 0.25, 0.1, 0.05, 0.01]\n",
            "currentDenom 1.0\n",
            "result:  [50.0, 20.0, 20.0, 5.0, 1.0]\n",
            "newBalance: < 3.99 >\n",
            "get_change balance { 3.99 }, denominations  [1.0, 0.25, 0.1, 0.05, 0.01]\n",
            "currentDenom 1.0\n",
            "result:  [50.0, 20.0, 20.0, 5.0, 1.0, 1.0]\n",
            "newBalance: < 2.99 >\n",
            "get_change balance { 2.99 }, denominations  [1.0, 0.25, 0.1, 0.05, 0.01]\n",
            "currentDenom 1.0\n",
            "result:  [50.0, 20.0, 20.0, 5.0, 1.0, 1.0, 1.0]\n",
            "newBalance: < 1.99 >\n",
            "get_change balance { 1.99 }, denominations  [1.0, 0.25, 0.1, 0.05, 0.01]\n",
            "currentDenom 1.0\n",
            "result:  [50.0, 20.0, 20.0, 5.0, 1.0, 1.0, 1.0, 1.0]\n",
            "newBalance: < 0.99 >\n",
            "removing index: 0  denomination: 1.0\n",
            "get_change balance { 0.99 }, denominations  [0.25, 0.1, 0.05, 0.01]\n",
            "currentDenom 0.25\n",
            "result:  [50.0, 20.0, 20.0, 5.0, 1.0, 1.0, 1.0, 1.0, 0.25]\n",
            "newBalance: < 0.74 >\n",
            "get_change balance { 0.74 }, denominations  [0.25, 0.1, 0.05, 0.01]\n",
            "currentDenom 0.25\n",
            "result:  [50.0, 20.0, 20.0, 5.0, 1.0, 1.0, 1.0, 1.0, 0.25, 0.25]\n",
            "newBalance: < 0.49 >\n",
            "get_change balance { 0.49 }, denominations  [0.25, 0.1, 0.05, 0.01]\n",
            "currentDenom 0.25\n",
            "result:  [50.0, 20.0, 20.0, 5.0, 1.0, 1.0, 1.0, 1.0, 0.25, 0.25, 0.25]\n",
            "newBalance: < 0.24 >\n",
            "removing index: 0  denomination: 0.25\n",
            "get_change balance { 0.24 }, denominations  [0.1, 0.05, 0.01]\n",
            "currentDenom 0.1\n",
            "result:  [50.0, 20.0, 20.0, 5.0, 1.0, 1.0, 1.0, 1.0, 0.25, 0.25, 0.25, 0.1]\n",
            "newBalance: < 0.14 >\n",
            "get_change balance { 0.14 }, denominations  [0.1, 0.05, 0.01]\n",
            "currentDenom 0.1\n",
            "result:  [50.0, 20.0, 20.0, 5.0, 1.0, 1.0, 1.0, 1.0, 0.25, 0.25, 0.25, 0.1, 0.1]\n",
            "newBalance: < 0.04 >\n",
            "removing index: 0  denomination: 0.1\n",
            "get_change balance { 0.04 }, denominations  [0.05, 0.01]\n",
            "currentDenom 0.05\n",
            "removing index: 0  denomination: 0.05\n",
            "get_change balance { 0.04 }, denominations  [0.01]\n",
            "currentDenom 0.01\n",
            "result:  [50.0, 20.0, 20.0, 5.0, 1.0, 1.0, 1.0, 1.0, 0.25, 0.25, 0.25, 0.1, 0.1, 0.01]\n",
            "newBalance: < 0.03 >\n",
            "get_change balance { 0.03 }, denominations  [0.01]\n",
            "currentDenom 0.01\n",
            "result:  [50.0, 20.0, 20.0, 5.0, 1.0, 1.0, 1.0, 1.0, 0.25, 0.25, 0.25, 0.1, 0.1, 0.01, 0.01]\n",
            "newBalance: < 0.02 >\n",
            "get_change balance { 0.02 }, denominations  [0.01]\n",
            "currentDenom 0.01\n",
            "result:  [50.0, 20.0, 20.0, 5.0, 1.0, 1.0, 1.0, 1.0, 0.25, 0.25, 0.25, 0.1, 0.1, 0.01, 0.01, 0.01]\n",
            "newBalance: < 0.01 >\n",
            "get_change balance { 0.01 }, denominations  [0.01]\n",
            "currentDenom 0.01\n",
            "result:  [50.0, 20.0, 20.0, 5.0, 1.0, 1.0, 1.0, 1.0, 0.25, 0.25, 0.25, 0.1, 0.1, 0.01, 0.01, 0.01, 0.01]\n",
            "newBalance: < 0.0 >\n",
            "removing index: 0  denomination: 0.01\n",
            "get_change balance { 0.0 }, denominations  []\n",
            "[50.0, 20.0, 20.0, 5.0, 1.0, 1.0, 1.0, 1.0, 0.25, 0.25, 0.25, 0.1, 0.1, 0.01, 0.01, 0.01, 0.01]\n",
            "Passed!!!\n"
          ],
          "name": "stdout"
        }
      ]
    }
  ]
}