{
  "nbformat": 4,
  "nbformat_minor": 0,
  "metadata": {
    "colab": {
      "name": "Looksay.ipynb",
      "version": "0.3.2",
      "provenance": [],
      "collapsed_sections": [],
      "include_colab_link": true
    },
    "kernelspec": {
      "name": "python3",
      "display_name": "Python 3"
    }
  },
  "cells": [
    {
      "cell_type": "markdown",
      "metadata": {
        "id": "view-in-github",
        "colab_type": "text"
      },
      "source": [
        "<a href=\"https://colab.research.google.com/github/cbertolasio/python-study-group/blob/master/Looksay.ipynb\" target=\"_parent\"><img src=\"https://colab.research.google.com/assets/colab-badge.svg\" alt=\"Open In Colab\"/></a>"
      ]
    },
    {
      "metadata": {
        "id": "FRkAX40q6bKj",
        "colab_type": "text"
      },
      "cell_type": "markdown",
      "source": [
        "\t\n",
        "\n",
        "# The looksay Problem\n",
        "\n",
        "Ikken Hissatsu is a philosophy that is a part of Shotokan Karate and other martial arts.  It translates to something similar to “Kill with one strike”.  It is not a complicated idea.  Basically, it means execute every strike (or kick) with the intention of ending the fight.  In other words, don’t get fancy.  In software development, there is a similar saying…  Just do the simplest thing that can possibly work (if you’re not sure what to do yet).  The other day, I came across a coding problem called “looksay”.  Consider the following sequence.\n",
        "\n",
        "<pre>\n",
        "1\n",
        "1,1\n",
        "2,1\n",
        "1,2,1,1\n",
        "</pre>\n",
        "\n",
        "The challenge is to come up with the next line in the sequence.  The pattern is derived based on “saying” what is on the previous line.  For instance, the second line is “1, 1”, or “one one” because there is one “1” on the previous line.  The third line is “2, 1” because there are two ones on the second line.  \n",
        "\n",
        "In the cell below complete the function looksay that will return  python list that is the \"looksay\" result for a list that is passed in  .I have included some tests to get you started and help ensure that your solution is correct.d\n",
        "\n",
        "Good luck!\n"
      ]
    },
    {
      "metadata": {
        "id": "31oKBFLEMjFM",
        "colab_type": "code",
        "colab": {}
      },
      "cell_type": "code",
      "source": [
        ""
      ],
      "execution_count": 0,
      "outputs": []
    },
    {
      "metadata": {
        "id": "GxiVjr7h7Nbd",
        "colab_type": "code",
        "colab": {}
      },
      "cell_type": "code",
      "source": [
        "\n",
        "def looksay(look):\n",
        "    result = []\n",
        "    \n",
        "    # need to add a last element\n",
        "    look.append(' ')\n",
        "    repeat = look[0]\n",
        "    numbers = look[1:]\n",
        "    count = 1\n",
        "    \n",
        "    print('repeat:', repeat, 'numbers:', numbers)\n",
        "    for actual in numbers:\n",
        "      print('actual:', actual, 'repeat:', repeat)\n",
        "      if actual != repeat:\n",
        "        result.append(count)\n",
        "        result.append(repeat)\n",
        "        print('result:', result)\n",
        "        repeat = actual\n",
        "        count = 1\n",
        "      else:\n",
        "        count +=1\n",
        "\n",
        "    return result\n",
        "\n"
      ],
      "execution_count": 0,
      "outputs": []
    },
    {
      "metadata": {
        "id": "mAu3OaKr7TCP",
        "colab_type": "code",
        "outputId": "53bbe1a5-fabf-4c16-b81d-e3673b751e00",
        "colab": {
          "base_uri": "https://localhost:8080/",
          "height": 353
        }
      },
      "cell_type": "code",
      "source": [
        "assert( looksay([1]) == [1,1])\n",
        "assert( looksay([1,1]) == [2,1])\n",
        "assert( looksay([2,1]) == [1,2,1,1])\n",
        "assert( looksay([1,2,1,1]) == [1,1,1,2,2,1])\n"
      ],
      "execution_count": 100,
      "outputs": [
        {
          "output_type": "stream",
          "text": [
            "repeat: 1 numbers: [' ']\n",
            "actual:   repeat: 1\n",
            "result: [1, 1]\n",
            "repeat: 1 numbers: [1, ' ']\n",
            "actual: 1 repeat: 1\n",
            "actual:   repeat: 1\n",
            "result: [2, 1]\n",
            "repeat: 2 numbers: [1, ' ']\n",
            "actual: 1 repeat: 2\n",
            "result: [1, 2]\n",
            "actual:   repeat: 1\n",
            "result: [1, 2, 1, 1]\n",
            "repeat: 1 numbers: [2, 1, 1, ' ']\n",
            "actual: 2 repeat: 1\n",
            "result: [1, 1]\n",
            "actual: 1 repeat: 2\n",
            "result: [1, 1, 1, 2]\n",
            "actual: 1 repeat: 1\n",
            "actual:   repeat: 1\n",
            "result: [1, 1, 1, 2, 2, 1]\n"
          ],
          "name": "stdout"
        }
      ]
    }
  ]
}