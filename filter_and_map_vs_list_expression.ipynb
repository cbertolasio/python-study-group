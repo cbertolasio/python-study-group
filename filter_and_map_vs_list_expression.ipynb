{
  "nbformat": 4,
  "nbformat_minor": 0,
  "metadata": {
    "colab": {
      "name": "filter and map vs list expression",
      "version": "0.3.2",
      "provenance": [],
      "include_colab_link": true
    },
    "kernelspec": {
      "name": "python3",
      "display_name": "Python 3"
    }
  },
  "cells": [
    {
      "cell_type": "markdown",
      "metadata": {
        "id": "view-in-github",
        "colab_type": "text"
      },
      "source": [
        "<a href=\"https://colab.research.google.com/github/cbertolasio/python-study-group/blob/master/filter_and_map_vs_list_expression.ipynb\" target=\"_parent\"><img src=\"https://colab.research.google.com/assets/colab-badge.svg\" alt=\"Open In Colab\"/></a>"
      ]
    },
    {
      "metadata": {
        "id": "nAUCcjbi1c9t",
        "colab_type": "code",
        "colab": {
          "base_uri": "https://localhost:8080/",
          "height": 67
        },
        "outputId": "7add4c53-d382-433e-b6bb-c4b604ea8b84"
      },
      "cell_type": "code",
      "source": [
        "%%time\n",
        "fulllist = list(range(0,100000))\n",
        "\n",
        "odds = list(filter(lambda x: x%2==1, fulllist))\n",
        "#print(len(odds))\n",
        "result = list(map(lambda x: x**2, odds))\n",
        "#result = [x**2 for x in odds]\n",
        "print(result[0:10])"
      ],
      "execution_count": 14,
      "outputs": [
        {
          "output_type": "stream",
          "text": [
            "[1, 9, 25, 49, 81, 121, 169, 225, 289, 361]\n",
            "CPU times: user 45.3 ms, sys: 1.82 ms, total: 47.2 ms\n",
            "Wall time: 52.3 ms\n"
          ],
          "name": "stdout"
        }
      ]
    },
    {
      "metadata": {
        "id": "eDOZJXEx8SR1",
        "colab_type": "code",
        "colab": {
          "base_uri": "https://localhost:8080/",
          "height": 67
        },
        "outputId": "fcdc95ca-b49f-4a3f-c4c5-087a1991208d"
      },
      "cell_type": "code",
      "source": [
        "%%time\n",
        "fulllist = list(range(0,100000))\n",
        "result = [x**2 for x in fulllist if x%2==1]  # Here we consider 0 to be even.\n",
        "print(result[0:10])"
      ],
      "execution_count": 12,
      "outputs": [
        {
          "output_type": "stream",
          "text": [
            "[1, 9, 25, 49, 81, 121, 169, 225, 289, 361]\n",
            "CPU times: user 31.3 ms, sys: 2.08 ms, total: 33.3 ms\n",
            "Wall time: 37.4 ms\n"
          ],
          "name": "stdout"
        }
      ]
    }
  ]
}